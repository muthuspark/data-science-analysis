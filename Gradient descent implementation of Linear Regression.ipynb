{
 "cells": [
  {
   "cell_type": "code",
   "execution_count": 1,
   "metadata": {},
   "outputs": [
    {
     "data": {
      "text/plain": [
       "<matplotlib.collections.PathCollection at 0x1a062de4d0>"
      ]
     },
     "execution_count": 1,
     "metadata": {},
     "output_type": "execute_result"
    }
   ],
   "source": [
    "from sklearn.datasets import make_regression\n",
    "import matplotlib.pyplot as plt\n",
    "import numpy as np\n",
    "X, y = make_regression(n_samples=100, n_features=1,\n",
    "                                      n_informative=1, noise=10, random_state=0)\n",
    "plt.scatter(X, y)"
   ]
  },
  {
   "cell_type": "code",
   "execution_count": 2,
   "metadata": {},
   "outputs": [
    {
     "name": "stdout",
     "output_type": "stream",
     "text": [
      "[42.61943029] -0.8141818270307257\n"
     ]
    },
    {
     "data": {
      "text/plain": [
       "<matplotlib.collections.PathCollection at 0x1a11e79110>"
      ]
     },
     "execution_count": 2,
     "metadata": {},
     "output_type": "execute_result"
    },
    {
     "data": {
      "image/png": "[encoded data removed]",
      "text/plain": [
       "<matplotlib.figure.Figure at 0x1a0684ecd0>"
      ]
     },
     "metadata": {},
     "output_type": "display_data"
    }
   ],
   "source": [
    "#linear regress using sklearn libs\n",
    "from sklearn.linear_model import LinearRegression\n",
    "\n",
    "lr = LinearRegression()\n",
    "lr.fit(X, y)\n",
    "\n",
    "print lr.coef_, lr.intercept_\n",
    "\n",
    "regressed_y = X*lr.coef_ + lr.intercept_\n",
    "regressed_y = regressed_y.ravel() #flatten the array\n",
    "\n",
    "plt.plot(X, regressed_y)\n",
    "plt.scatter(X, y)"
   ]
  },
  {
   "cell_type": "code",
   "execution_count": 3,
   "metadata": {
    "scrolled": false
   },
   "outputs": [
    {
     "ename": "NameError",
     "evalue": "name 'y_predicted' is not defined",
     "output_type": "error",
     "traceback": [
      "\u001b[0;31m---------------------------------------------------------------------------\u001b[0m",
      "\u001b[0;31mNameError\u001b[0m                                 Traceback (most recent call last)",
      "\u001b[0;32m<ipython-input-3-3cd3dab228e0>\u001b[0m in \u001b[0;36m<module>\u001b[0;34m()\u001b[0m\n\u001b[1;32m      8\u001b[0m \u001b[0mb\u001b[0m\u001b[0;34m=\u001b[0m\u001b[0;36m0\u001b[0m\u001b[0;34m\u001b[0m\u001b[0m\n\u001b[1;32m      9\u001b[0m \u001b[0;34m\u001b[0m\u001b[0m\n\u001b[0;32m---> 10\u001b[0;31m \u001b[0mcost\u001b[0m \u001b[0;34m=\u001b[0m \u001b[0mnp\u001b[0m\u001b[0;34m.\u001b[0m\u001b[0msum\u001b[0m\u001b[0;34m(\u001b[0m\u001b[0;34m(\u001b[0m\u001b[0my\u001b[0m \u001b[0;34m-\u001b[0m \u001b[0my_predicted\u001b[0m\u001b[0;34m)\u001b[0m\u001b[0;34m**\u001b[0m\u001b[0;36m2\u001b[0m\u001b[0;34m)\u001b[0m\u001b[0;34m/\u001b[0m\u001b[0mnumber_of_datapoints\u001b[0m\u001b[0;34m\u001b[0m\u001b[0m\n\u001b[0m\u001b[1;32m     11\u001b[0m \u001b[0;34m\u001b[0m\u001b[0m\n\u001b[1;32m     12\u001b[0m \u001b[0mcosts_reduction\u001b[0m\u001b[0;34m=\u001b[0m \u001b[0;34m[\u001b[0m\u001b[0;34m]\u001b[0m\u001b[0;34m\u001b[0m\u001b[0m\n",
      "\u001b[0;31mNameError\u001b[0m: name 'y_predicted' is not defined"
     ]
    }
   ],
   "source": [
    "number_of_datapoints = float(len(y))\n",
    "learning_rate = 0.01\n",
    "iterations = 1000\n",
    "\n",
    "#equation of line y = a + bx\n",
    "#let the initial intercepts be a=0, b=0\n",
    "a=0\n",
    "b=0\n",
    "\n",
    "y_predicted = a + b * X\n",
    "cost = np.sum((y - y_predicted)**2)/number_of_datapoints\n",
    "print \"original cost : \"+ str(cost)\n",
    "costs_reduction= []\n",
    "\n",
    "for i in range(iterations):\n",
    "    \n",
    "    #find the first derivative of the cost on a and b and minimize it d/da and d/db\n",
    "    da = 0\n",
    "    db = 0\n",
    "    for j in range(len(y)):\n",
    "        db += -(2/number_of_datapoints) * (y[j] - ((a * X[j]) + b))\n",
    "        da += -(2/number_of_datapoints) * X[j] * (y[j] - ((a * X[j]) + b))\n",
    "        \n",
    "    #adjust a and b\n",
    "    a = a - (learning_rate * da)\n",
    "    b = b - (learning_rate * db)\n",
    "    \n",
    "    regressed_y = X*a + b\n",
    "    regressed_y = regressed_y.ravel() #flatten the array\n",
    "    if i%100 == 0:\n",
    "        \n",
    "        plt.subplot(5,2,(i/100)+1)\n",
    "        plt.title('at iteration'+str(i))\n",
    "        plt.plot(X,regressed_y)\n",
    "        plt.scatter(X,y)\n",
    "    \n",
    "    new_cost = np.sum((y - regressed_y)**2)/number_of_datapoints\n",
    "    costs_reduction.append(new_cost)\n",
    "    \n",
    "    #find the convergence point\n",
    "    if np.sum(costs_reduction[-3:])/costs_reduction[-1:] == 3:\n",
    "        print \"convergence point reached at iteration : \" + str(i)\n",
    "        break\n",
    "    \n",
    "print \"coefficient : \"+ str(a)\n",
    "print \"intercept : \"+ str(b)\n"
   ]
  },
  {
   "cell_type": "code",
   "execution_count": null,
   "metadata": {},
   "outputs": [],
   "source": [
    "plt.title(\"cost reduction over time\")\n",
    "plt.plot(costs_reduction, range(len(costs_reduction)))"
   ]
  },
  {
   "cell_type": "code",
   "execution_count": null,
   "metadata": {},
   "outputs": [],
   "source": []
  }
 ],
 "metadata": {
  "kernelspec": {
   "display_name": "Python 2",
   "language": "python",
   "name": "python2"
  },
  "language_info": {
   "codemirror_mode": {
    "name": "ipython",
    "version": 2
   },
   "file_extension": ".py",
   "mimetype": "text/x-python",
   "name": "python",
   "nbconvert_exporter": "python",
   "pygments_lexer": "ipython2",
   "version": "2.7.15"
  }
 },
 "nbformat": 4,
 "nbformat_minor": 2
}
